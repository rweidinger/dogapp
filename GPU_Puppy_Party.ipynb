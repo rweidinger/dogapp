{
  "nbformat": 4,
  "nbformat_minor": 0,
  "metadata": {
    "colab": {
      "name": "GPU_Puppy_Party.ipynb",
      "provenance": [],
      "toc_visible": true,
      "include_colab_link": true
    },
    "kernelspec": {
      "name": "python37464bitbaseconda3ac2a3e611aa4b3dbb7b35dce603ba71",
      "display_name": "Python 3.7.4 64-bit ('base': conda)"
    },
    "accelerator": "GPU"
  },
  "cells": [
    {
      "cell_type": "markdown",
      "metadata": {
        "colab_type": "text",
        "id": "view-in-github"
      },
      "source": [
        "<a href=\"https://colab.research.google.com/github/rweidinger/dogapp/blob/dev/GPU_Puppy_Party.ipynb\" target=\"_parent\"><img src=\"https://colab.research.google.com/assets/colab-badge.svg\" alt=\"Open In Colab\"/></a>"
      ]
    },
    {
      "cell_type": "markdown",
      "metadata": {
        "colab_type": "text",
        "id": "9-B-To7ElBD7"
      },
      "source": [
        "# Neural Net for Dog Image Recognition"
      ]
    },
    {
      "cell_type": "markdown",
      "metadata": {
        "colab_type": "text",
        "id": "bBLH-S1Xu6bx"
      },
      "source": [
        "## Environment Setup"
      ]
    },
    {
      "cell_type": "markdown",
      "metadata": {
        "colab_type": "text",
        "id": "LQlMm8ExvRvk"
      },
      "source": [
        "Import libraries and mount Drive"
      ]
    },
    {
      "cell_type": "code",
      "execution_count": 2,
      "metadata": {},
      "outputs": [
        {
          "data": {
            "text/plain": "'2.0.0'"
          },
          "execution_count": 2,
          "metadata": {},
          "output_type": "execute_result"
        }
      ],
      "source": [
        "#%tensorflow_version 2.x\n",
        "import tensorflow as tf\n",
        "tf.__version__"
      ]
    },
    {
      "cell_type": "code",
      "execution_count": 34,
      "metadata": {},
      "outputs": [
        {
          "ename": "ModuleNotFoundError",
          "evalue": "No module named 'tensorflow.strings'",
          "output_type": "error",
          "traceback": [
            "\u001b[0;31m---------------------------------------------------------------------------\u001b[0m",
            "\u001b[0;31mModuleNotFoundError\u001b[0m                       Traceback (most recent call last)",
            "\u001b[0;32m<ipython-input-34-f13b946e2d0c>\u001b[0m in \u001b[0;36m<module>\u001b[0;34m\u001b[0m\n\u001b[1;32m      8\u001b[0m \u001b[0;32mfrom\u001b[0m \u001b[0mtensorflow\u001b[0m\u001b[0;34m.\u001b[0m\u001b[0mkeras\u001b[0m\u001b[0;34m.\u001b[0m\u001b[0mlayers\u001b[0m \u001b[0;32mimport\u001b[0m \u001b[0mDense\u001b[0m\u001b[0;34m,\u001b[0m \u001b[0mActivation\u001b[0m\u001b[0;34m\u001b[0m\u001b[0;34m\u001b[0m\u001b[0m\n\u001b[1;32m      9\u001b[0m \u001b[0;32mfrom\u001b[0m \u001b[0mtensorflow\u001b[0m\u001b[0;34m.\u001b[0m\u001b[0mkeras\u001b[0m\u001b[0;34m.\u001b[0m\u001b[0mutils\u001b[0m \u001b[0;32mimport\u001b[0m \u001b[0mto_categorical\u001b[0m\u001b[0;34m\u001b[0m\u001b[0;34m\u001b[0m\u001b[0m\n\u001b[0;32m---> 10\u001b[0;31m \u001b[0;32mfrom\u001b[0m \u001b[0mtensorflow\u001b[0m\u001b[0;34m.\u001b[0m\u001b[0mstrings\u001b[0m \u001b[0;32mimport\u001b[0m \u001b[0mto_number\u001b[0m\u001b[0;34m\u001b[0m\u001b[0;34m\u001b[0m\u001b[0m\n\u001b[0m\u001b[1;32m     11\u001b[0m \u001b[0;31m#from tensorflow.strings import to_number\u001b[0m\u001b[0;34m\u001b[0m\u001b[0;34m\u001b[0m\u001b[0;34m\u001b[0m\u001b[0m\n\u001b[1;32m     12\u001b[0m \u001b[0;32mimport\u001b[0m \u001b[0mmatplotlib\u001b[0m\u001b[0;34m.\u001b[0m\u001b[0mpyplot\u001b[0m \u001b[0;32mas\u001b[0m \u001b[0mplt\u001b[0m\u001b[0;34m\u001b[0m\u001b[0;34m\u001b[0m\u001b[0m\n",
            "\u001b[0;31mModuleNotFoundError\u001b[0m: No module named 'tensorflow.strings'"
          ]
        }
      ],
      "source": [
        "import os\n",
        "import pandas as pd\n",
        "import numpy as np\n",
        "from sklearn import neural_network\n",
        "import scipy.io as sio\n",
        "import tarfile\n",
        "from tensorflow.keras.models import Sequential\n",
        "from tensorflow.keras.layers import Dense, Activation\n",
        "from tensorflow.keras.utils import to_categorical\n",
        "from tensorflow.strings import to_number\n",
        "import matplotlib.pyplot as plt\n",
        "import random as rn\n",
        "from sklearn.preprocessing import LabelEncoder\n",
        "from tqdm import tqdm\n",
        "import re"
      ]
    },
    {
      "cell_type": "code",
      "execution_count": 6,
      "metadata": {},
      "outputs": [],
      "source": [
        "#from google.colab import drive\n",
        "#drive.mount('/content/drive')"
      ]
    },
    {
      "cell_type": "code",
      "execution_count": 7,
      "metadata": {},
      "outputs": [],
      "source": [
        "#device_name = tf.test.gpu_device_name()\n",
        "#if device_name != '/device:GPU:0':\n",
        "#  raise SystemError('GPU device not found')\n",
        "#print('Found GPU at: {}'.format(device_name))"
      ]
    },
    {
      "cell_type": "markdown",
      "metadata": {
        "colab_type": "text",
        "id": "kN-VnhS9wK49"
      },
      "source": [
        "## Import train and test data"
      ]
    },
    {
      "cell_type": "code",
      "execution_count": 5,
      "metadata": {},
      "outputs": [],
      "source": [
        "# Define function to download .mat files\n",
        "def loadMatFile(file_name):\n",
        "  root_path = 'data/'\n",
        "  return sio.loadmat(root_path + file_name)"
      ]
    },
    {
      "cell_type": "code",
      "execution_count": 6,
      "metadata": {},
      "outputs": [],
      "source": [
        "# Import train and test sets\n",
        "train_dict = loadMatFile('train_data.mat')\n",
        "test_dict = loadMatFile('test_data.mat')\n",
        "train_data = train_dict['train_data']\n",
        "test_data = test_dict['test_data']"
      ]
    },
    {
      "cell_type": "code",
      "execution_count": 38,
      "metadata": {},
      "outputs": [
        {
          "name": "stdout",
          "output_type": "stream",
          "text": "Processed 12000 train labels!\nProcessed 8580 test labels!\n"
        }
      ],
      "source": [
        "def extract_labels(regex_pattern, dictionary, return_type):\n",
        "    label_list = []\n",
        "    if 'train' in '{}'.format(dictionary):\n",
        "        prefix = 'train'\n",
        "        for array in dictionary['{}_info'.format(prefix)][0][0][0]:\n",
        "            label_list.append(re.search(regex_pattern, array[0][0]).group(1))\n",
        "    elif 'test' in '{}'.format(dictionary):\n",
        "        prefix = 'test'\n",
        "        for array in dictionary['{}_info'.format(prefix)][0][0][0]:\n",
        "            label_list.append(re.search(regex_pattern, array[0][0]).group(1))\n",
        "    else:\n",
        "        print('Error: please check your input dictionary. You may have entered the name of a non-existant dictionary.')\n",
        "    print('Processed {} {} labels!'.format(len(label_list), prefix))\n",
        "    if return_type == 'series':\n",
        "        return pd.Series(label_list)\n",
        "    elif return_type == 'array':\n",
        "        return np.asarray(label_list)\n",
        "    elif return_type == 'list':\n",
        "        return label_list\n",
        "\n",
        "train_labels = extract_labels(regex_pattern = '-(.*?)/n', dictionary = train_dict, return_type = 'series')\n",
        "test_labels = extract_labels(regex_pattern = '-(.*?)/n', dictionary = test_dict, return_type = 'series')"
      ]
    },
    {
      "cell_type": "code",
      "execution_count": 41,
      "metadata": {},
      "outputs": [
        {
          "data": {
            "text/plain": "array([  0,   0,   0, ..., 119, 119, 119])"
          },
          "execution_count": 41,
          "metadata": {},
          "output_type": "execute_result"
        }
      ],
      "source": [
        "test_labels_numeric, uniques = test_labels.factorize()\n",
        "train_labels_numeric, uniques = train_labels.factorize()\n",
        "test_labels_numeric"
      ]
    },
    {
      "cell_type": "code",
      "execution_count": 57,
      "metadata": {},
      "outputs": [
        {
          "name": "stdout",
          "output_type": "stream",
          "text": "Train on 9600 samples, validate on 2400 samples\nEpoch 1/10\n9600/9600 [==============================] - 24s 3ms/sample - loss: 4.6280 - accuracy: 0.0171 - val_loss: 8.8074 - val_accuracy: 0.0000e+00\nEpoch 2/10\n9600/9600 [==============================] - 22s 2ms/sample - loss: 4.4423 - accuracy: 0.0219 - val_loss: 9.9029 - val_accuracy: 0.0000e+00\nEpoch 3/10\n9600/9600 [==============================] - 23s 2ms/sample - loss: 4.3737 - accuracy: 0.0252 - val_loss: 9.8318 - val_accuracy: 0.0000e+00\nEpoch 4/10\n9600/9600 [==============================] - 21s 2ms/sample - loss: 4.2986 - accuracy: 0.0324 - val_loss: 13.3706 - val_accuracy: 0.0000e+00\nEpoch 5/10\n9600/9600 [==============================] - 21s 2ms/sample - loss: 4.2200 - accuracy: 0.0367 - val_loss: 12.2186 - val_accuracy: 0.0000e+00\nEpoch 6/10\n9600/9600 [==============================] - 20s 2ms/sample - loss: 4.1677 - accuracy: 0.0409 - val_loss: 13.6573 - val_accuracy: 0.0000e+00\nEpoch 7/10\n9600/9600 [==============================] - 20s 2ms/sample - loss: 4.1277 - accuracy: 0.0452 - val_loss: 14.3415 - val_accuracy: 0.0000e+00\nEpoch 8/10\n9600/9600 [==============================] - 20s 2ms/sample - loss: 4.0988 - accuracy: 0.0468 - val_loss: 14.3412 - val_accuracy: 0.0000e+00\nEpoch 9/10\n9600/9600 [==============================] - 20s 2ms/sample - loss: 4.0592 - accuracy: 0.0533 - val_loss: 14.8858 - val_accuracy: 0.0000e+00\nEpoch 10/10\n9600/9600 [==============================] - 21s 2ms/sample - loss: 4.0320 - accuracy: 0.0527 - val_loss: 14.5189 - val_accuracy: 0.0000e+00\n"
        },
        {
          "data": {
            "text/plain": "<tensorflow.python.keras.callbacks.History at 0x1af2a3c2d0>"
          },
          "execution_count": 57,
          "metadata": {},
          "output_type": "execute_result"
        }
      ],
      "source": [
        "image_count = int(input('Enter the number of images you would like to train on: '))\n",
        "#y_binary = to_categorical(train_labels)\n",
        "\n",
        "#image_count = 200\n",
        "model = Sequential()\n",
        "model.add(Dense(2000, activation = 'relu', input_shape = (12000,)))\n",
        "model.add(Dense(1000, activation = 'relu'))\n",
        "model.add(Dense(1000, activation = 'relu'))\n",
        "model.add(Dense(1000, activation = 'relu'))\n",
        "model.add(Dense(500, activation = 'relu'))\n",
        "model.add(Dense(120, activation = 'softmax'))\n",
        "model.compile(optimizer = 'adam', loss = 'sparse_categorical_crossentropy', metrics = ['accuracy'])\n",
        "model.fit(train_data[:image_count], train_labels_numeric[:image_count], validation_split = 0.2, epochs = 100)"
      ]
    },
    {
      "cell_type": "code",
      "execution_count": 48,
      "metadata": {},
      "outputs": [
        {
          "name": "stdout",
          "output_type": "stream",
          "text": "Model: \"sequential_7\"\n_________________________________________________________________\nLayer (type)                 Output Shape              Param #   \n=================================================================\ndense_21 (Dense)             (None, 10)                120010    \n_________________________________________________________________\ndense_22 (Dense)             (None, 10)                110       \n_________________________________________________________________\ndense_23 (Dense)             (None, 120)               1320      \n=================================================================\nTotal params: 121,440\nTrainable params: 121,440\nNon-trainable params: 0\n_________________________________________________________________\n"
        }
      ],
      "source": [
        "model.summary()"
      ]
    },
    {
      "cell_type": "markdown",
      "metadata": {},
      "source": [
        "## Exploratory Data Analysis"
      ]
    },
    {
      "cell_type": "code",
      "execution_count": null,
      "metadata": {},
      "outputs": [],
      "source": []
    },
    {
      "cell_type": "code",
      "execution_count": 11,
      "metadata": {},
      "outputs": [
        {
          "data": {
            "text/plain": "{'__header__': b'MATLAB 5.0 MAT-file, Platform: GLNXA64, Created on: Wed Mar 28 12:03:37 2012',\n '__version__': '1.0',\n '__globals__': [],\n 'train_info': array([[(array([[array(['n02085620-Chihuahua/n02085620_5927.jpg'], dtype='<U38')],\n        [array(['n02085620-Chihuahua/n02085620_4441.jpg'], dtype='<U38')],\n        [array(['n02085620-Chihuahua/n02085620_1502.jpg'], dtype='<U38')],\n        ...,\n        [array(['n02116738-African_hunting_dog/n02116738_6754.jpg'], dtype='<U48')],\n        [array(['n02116738-African_hunting_dog/n02116738_9333.jpg'], dtype='<U48')],\n        [array(['n02116738-African_hunting_dog/n02116738_2503.jpg'], dtype='<U48')]],\n       dtype=object), array([[array(['n02085620-Chihuahua/n02085620_5927'], dtype='<U34')],\n        [array(['n02085620-Chihuahua/n02085620_4441'], dtype='<U34')],\n        [array(['n02085620-Chihuahua/n02085620_1502'], dtype='<U34')],\n        ...,\n        [array(['n02116738-African_hunting_dog/n02116738_6754'], dtype='<U44')],\n        [array(['n02116738-African_hunting_dog/n02116738_9333'], dtype='<U44')],\n        [array(['n02116738-African_hunting_dog/n02116738_2503'], dtype='<U44')]],\n       dtype=object), array([[  1],\n        [  1],\n        [  1],\n        ...,\n        [120],\n        [120],\n        [120]], dtype=uint8), array([[array(['histograms_spm/n02085620-Chihuahua/n02085620_5927.mat'],\n       dtype='<U53')],\n        [array(['histograms_spm/n02085620-Chihuahua/n02085620_4441.mat'],\n       dtype='<U53')],\n        [array(['histograms_spm/n02085620-Chihuahua/n02085620_1502.mat'],\n       dtype='<U53')],\n        ...,\n        [array(['histograms_spm/n02116738-African_hunting_dog/n02116738_6754.mat'],\n       dtype='<U63')],\n        [array(['histograms_spm/n02116738-African_hunting_dog/n02116738_9333.mat'],\n       dtype='<U63')],\n        [array(['histograms_spm/n02116738-African_hunting_dog/n02116738_2503.mat'],\n       dtype='<U63')]], dtype=object))]],\n       dtype=[('file_list', 'O'), ('annotation_list', 'O'), ('labels', 'O'), ('fg_ids', 'O')]),\n 'train_fg_data': array([[4.32900433e-04, 2.88600289e-04, 2.88600289e-04, ...,\n         3.96825397e-04, 3.24675325e-04, 2.30880231e-03],\n        [0.00000000e+00, 6.34920635e-04, 6.98412698e-04, ...,\n         1.90476190e-04, 3.17460317e-05, 4.09523810e-03],\n        [0.00000000e+00, 0.00000000e+00, 0.00000000e+00, ...,\n         3.42465753e-04, 8.56164384e-05, 1.28424658e-03],\n        ...,\n        [0.00000000e+00, 0.00000000e+00, 0.00000000e+00, ...,\n         2.72817460e-03, 1.43849206e-03, 4.96031746e-05],\n        [1.92307692e-04, 9.61538462e-05, 9.61538462e-05, ...,\n         6.25000000e-04, 4.80769231e-05, 6.73076923e-04],\n        [3.84985563e-04, 0.00000000e+00, 0.00000000e+00, ...,\n         4.04234841e-03, 4.81231954e-05, 3.36862368e-04]]),\n 'train_data': array([[1.        , 0.37021212, 0.38627623, ..., 0.21216631, 0.33752761,\n         0.26825407],\n        [0.37021212, 1.        , 0.45434285, ..., 0.14359524, 0.3095    ,\n         0.17709522],\n        [0.38627623, 0.45434285, 1.        , ..., 0.16968838, 0.28702648,\n         0.20437348],\n        ...,\n        [0.21216631, 0.14359524, 0.16968838, ..., 1.        , 0.22314713,\n         0.41941136],\n        [0.33752761, 0.3095    , 0.28702648, ..., 0.22314713, 1.        ,\n         0.31585238],\n        [0.26825407, 0.17709522, 0.20437348, ..., 0.41941136, 0.31585238,\n         1.        ]])}"
          },
          "execution_count": 11,
          "metadata": {},
          "output_type": "execute_result"
        }
      ],
      "source": [
        "train_dict"
      ]
    },
    {
      "cell_type": "code",
      "execution_count": 13,
      "metadata": {},
      "outputs": [
        {
          "data": {
            "text/plain": "(12000, 12000)"
          },
          "execution_count": 13,
          "metadata": {},
          "output_type": "execute_result"
        }
      ],
      "source": [
        "train_data.shape"
      ]
    },
    {
      "cell_type": "code",
      "execution_count": 14,
      "metadata": {},
      "outputs": [
        {
          "data": {
            "text/plain": "(8580, 12000)"
          },
          "execution_count": 14,
          "metadata": {},
          "output_type": "execute_result"
        }
      ],
      "source": [
        "test_data.shape"
      ]
    }
  ]
}