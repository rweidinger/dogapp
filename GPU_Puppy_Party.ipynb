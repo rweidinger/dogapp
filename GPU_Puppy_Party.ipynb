{
  "nbformat": 4,
  "nbformat_minor": 0,
  "metadata": {
    "colab": {
      "name": "GPU_Puppy_Party.ipynb",
      "provenance": [],
      "toc_visible": true,
      "include_colab_link": true
    },
    "kernelspec": {
      "name": "python3",
      "display_name": "Python 3"
    },
    "accelerator": "GPU"
  },
  "cells": [
    {
      "cell_type": "markdown",
      "metadata": {
        "id": "view-in-github",
        "colab_type": "text"
      },
      "source": [
        "<a href=\"https://colab.research.google.com/github/rweidinger/dogapp/blob/dev/GPU_Puppy_Party.ipynb\" target=\"_parent\"><img src=\"https://colab.research.google.com/assets/colab-badge.svg\" alt=\"Open In Colab\"/></a>"
      ]
    },
    {
      "cell_type": "markdown",
      "metadata": {
        "id": "9-B-To7ElBD7",
        "colab_type": "text"
      },
      "source": [
        "# Neural Net for Dog Image Recognition"
      ]
    },
    {
      "cell_type": "markdown",
      "metadata": {
        "id": "bBLH-S1Xu6bx",
        "colab_type": "text"
      },
      "source": [
        "## Environment Setup"
      ]
    },
    {
      "cell_type": "markdown",
      "metadata": {
        "id": "LQlMm8ExvRvk",
        "colab_type": "text"
      },
      "source": [
        "Import libraries and mount Drive"
      ]
    },
    {
      "cell_type": "code",
      "metadata": {
        "id": "WjwhftTxdLye",
        "colab_type": "code",
        "outputId": "34c5a75a-7f18-48f4-aea6-34b895e90e41",
        "colab": {
          "base_uri": "https://localhost:8080/",
          "height": 51
        }
      },
      "source": [
        "%tensorflow_version 2.x\n",
        "import tensorflow as tf\n",
        "tf.__version__"
      ],
      "execution_count": 0,
      "outputs": [
        {
          "output_type": "stream",
          "text": [
            "TensorFlow 2.x selected.\n"
          ],
          "name": "stdout"
        },
        {
          "output_type": "execute_result",
          "data": {
            "text/plain": [
              "'2.1.0'"
            ]
          },
          "metadata": {
            "tags": []
          },
          "execution_count": 1
        }
      ]
    },
    {
      "cell_type": "code",
      "metadata": {
        "id": "vPO9OKHwt1I_",
        "colab_type": "code",
        "colab": {}
      },
      "source": [
        "import os\n",
        "import pandas as pd\n",
        "import numpy as np\n",
        "from sklearn import neural_network\n",
        "import scipy.io as sio\n",
        "import tarfile\n",
        "from tensorflow.keras.models import Sequential\n",
        "from tensorflow.keras.layers import Dense, Activation\n",
        "from keras.utils.np_utils import to_categorical\n",
        "from PIL import Image\n",
        "import matplotlib.pyplot as plt\n",
        "import random as rn\n",
        "from sklearn.preprocessing import LabelEncoder\n",
        "from tqdm import tqdm"
      ],
      "execution_count": 0,
      "outputs": []
    },
    {
      "cell_type": "code",
      "metadata": {
        "id": "bNq1VVMFssGY",
        "colab_type": "code",
        "outputId": "71ef4295-44c8-4595-9d8a-b4b897ffb361",
        "colab": {
          "base_uri": "https://localhost:8080/",
          "height": 122
        }
      },
      "source": [
        "from google.colab import drive\n",
        "drive.mount('/content/drive')"
      ],
      "execution_count": 0,
      "outputs": [
        {
          "output_type": "stream",
          "text": [
            "Go to this URL in a browser: https://accounts.google.com/o/oauth2/auth?client_id=947318989803-6bn6qk8qdgf4n4g3pfee6491hc0brc4i.apps.googleusercontent.com&redirect_uri=urn%3aietf%3awg%3aoauth%3a2.0%3aoob&response_type=code&scope=email%20https%3a%2f%2fwww.googleapis.com%2fauth%2fdocs.test%20https%3a%2f%2fwww.googleapis.com%2fauth%2fdrive%20https%3a%2f%2fwww.googleapis.com%2fauth%2fdrive.photos.readonly%20https%3a%2f%2fwww.googleapis.com%2fauth%2fpeopleapi.readonly\n",
            "\n",
            "Enter your authorization code:\n",
            "··········\n",
            "Mounted at /content/drive\n"
          ],
          "name": "stdout"
        }
      ]
    },
    {
      "cell_type": "code",
      "metadata": {
        "id": "XXCleMpMdYpX",
        "colab_type": "code",
        "outputId": "d6acd571-24ee-4141-c5a2-3bd52b53376a",
        "colab": {
          "base_uri": "https://localhost:8080/",
          "height": 34
        }
      },
      "source": [
        "device_name = tf.test.gpu_device_name()\n",
        "if device_name != '/device:GPU:0':\n",
        "  raise SystemError('GPU device not found')\n",
        "print('Found GPU at: {}'.format(device_name))"
      ],
      "execution_count": 0,
      "outputs": [
        {
          "output_type": "stream",
          "text": [
            "Found GPU at: /device:GPU:0\n"
          ],
          "name": "stdout"
        }
      ]
    },
    {
      "cell_type": "code",
      "metadata": {
        "id": "JcX-v7HdeC05",
        "colab_type": "code",
        "outputId": "7cd76567-aff7-4c4a-ae49-6a42e0771455",
        "colab": {
          "base_uri": "https://localhost:8080/",
          "height": 119
        }
      },
      "source": [
        "import timeit\n",
        "\n",
        "device_name = tf.test.gpu_device_name()\n",
        "if device_name != '/device:GPU:0':\n",
        "  print(\n",
        "      '\\n\\nThis error most likely means that this notebook is not '\n",
        "      'configured to use a GPU.  Change this in Notebook Settings via the '\n",
        "      'command palette (cmd/ctrl-shift-P) or the Edit menu.\\n\\n')\n",
        "  raise SystemError('GPU device not found')\n",
        "\n",
        "def cpu():\n",
        "  with tf.device('/cpu:0'):\n",
        "    random_image_cpu = tf.random.normal((100, 100, 100, 3))\n",
        "    net_cpu = tf.keras.layers.Conv2D(32, 7)(random_image_cpu)\n",
        "    return tf.math.reduce_sum(net_cpu)\n",
        "\n",
        "def gpu():\n",
        "  with tf.device('/device:GPU:0'):\n",
        "    random_image_gpu = tf.random.normal((100, 100, 100, 3))\n",
        "    net_gpu = tf.keras.layers.Conv2D(32, 7)(random_image_gpu)\n",
        "    return tf.math.reduce_sum(net_gpu)\n",
        "  \n",
        "# We run each op once to warm up; see: https://stackoverflow.com/a/45067900\n",
        "cpu()\n",
        "gpu()\n",
        "\n",
        "# Run the op several times.\n",
        "print('Time (s) to convolve 32x7x7x3 filter over random 100x100x100x3 images '\n",
        "      '(batch x height x width x channel). Sum of ten runs.')\n",
        "print('CPU (s):')\n",
        "cpu_time = timeit.timeit('cpu()', number=10, setup=\"from __main__ import cpu\")\n",
        "print(cpu_time)\n",
        "print('GPU (s):')\n",
        "gpu_time = timeit.timeit('gpu()', number=10, setup=\"from __main__ import gpu\")\n",
        "print(gpu_time)\n",
        "print('GPU speedup over CPU: {}x'.format(int(cpu_time/gpu_time)))"
      ],
      "execution_count": 0,
      "outputs": [
        {
          "output_type": "stream",
          "text": [
            "Time (s) to convolve 32x7x7x3 filter over random 100x100x100x3 images (batch x height x width x channel). Sum of ten runs.\n",
            "CPU (s):\n",
            "3.2145859409999957\n",
            "GPU (s):\n",
            "0.09808400599999345\n",
            "GPU speedup over CPU: 32x\n"
          ],
          "name": "stdout"
        }
      ]
    },
    {
      "cell_type": "markdown",
      "metadata": {
        "id": "kN-VnhS9wK49",
        "colab_type": "text"
      },
      "source": [
        "## Import train and test data"
      ]
    },
    {
      "cell_type": "code",
      "metadata": {
        "id": "hYQL9VtWtAJX",
        "colab_type": "code",
        "colab": {}
      },
      "source": [
        "# Define function to download .mat files\n",
        "def loadMatFile(file_name):\n",
        "  root_path = 'drive/My Drive/DogApp/'\n",
        "  return sio.loadmat(root_path + file_name)"
      ],
      "execution_count": 0,
      "outputs": []
    },
    {
      "cell_type": "code",
      "metadata": {
        "id": "i0P_AL5hxWeB",
        "colab_type": "code",
        "colab": {}
      },
      "source": [
        "# Import train and test sets\n",
        "train_dict = loadMatFile('train_data.mat')\n",
        "test_dict = loadMatFile('test_data.mat')\n",
        "train_data = train_dict['train_data']\n",
        "test_data = test_dict['test_data']"
      ],
      "execution_count": 0,
      "outputs": []
    },
    {
      "cell_type": "markdown",
      "metadata": {
        "id": "j34c5LsH3hNq",
        "colab_type": "text"
      },
      "source": [
        "## Exploratory Data Analysis"
      ]
    },
    {
      "cell_type": "code",
      "metadata": {
        "id": "itV9aH0rhU7Z",
        "colab_type": "code",
        "outputId": "04078e9b-dd8d-462e-ac18-1f518bc95502",
        "colab": {
          "base_uri": "https://localhost:8080/",
          "height": 1000
        }
      },
      "source": [
        "train_dict"
      ],
      "execution_count": 0,
      "outputs": [
        {
          "output_type": "execute_result",
          "data": {
            "text/plain": [
              "{'__globals__': [],\n",
              " '__header__': b'MATLAB 5.0 MAT-file, Platform: GLNXA64, Created on: Wed Mar 28 12:03:37 2012',\n",
              " '__version__': '1.0',\n",
              " 'train_data': array([[1.        , 0.37021212, 0.38627623, ..., 0.21216631, 0.33752761,\n",
              "         0.26825407],\n",
              "        [0.37021212, 1.        , 0.45434285, ..., 0.14359524, 0.3095    ,\n",
              "         0.17709522],\n",
              "        [0.38627623, 0.45434285, 1.        , ..., 0.16968838, 0.28702648,\n",
              "         0.20437348],\n",
              "        ...,\n",
              "        [0.21216631, 0.14359524, 0.16968838, ..., 1.        , 0.22314713,\n",
              "         0.41941136],\n",
              "        [0.33752761, 0.3095    , 0.28702648, ..., 0.22314713, 1.        ,\n",
              "         0.31585238],\n",
              "        [0.26825407, 0.17709522, 0.20437348, ..., 0.41941136, 0.31585238,\n",
              "         1.        ]]),\n",
              " 'train_fg_data': array([[4.32900433e-04, 2.88600289e-04, 2.88600289e-04, ...,\n",
              "         3.96825397e-04, 3.24675325e-04, 2.30880231e-03],\n",
              "        [0.00000000e+00, 6.34920635e-04, 6.98412698e-04, ...,\n",
              "         1.90476190e-04, 3.17460317e-05, 4.09523810e-03],\n",
              "        [0.00000000e+00, 0.00000000e+00, 0.00000000e+00, ...,\n",
              "         3.42465753e-04, 8.56164384e-05, 1.28424658e-03],\n",
              "        ...,\n",
              "        [0.00000000e+00, 0.00000000e+00, 0.00000000e+00, ...,\n",
              "         2.72817460e-03, 1.43849206e-03, 4.96031746e-05],\n",
              "        [1.92307692e-04, 9.61538462e-05, 9.61538462e-05, ...,\n",
              "         6.25000000e-04, 4.80769231e-05, 6.73076923e-04],\n",
              "        [3.84985563e-04, 0.00000000e+00, 0.00000000e+00, ...,\n",
              "         4.04234841e-03, 4.81231954e-05, 3.36862368e-04]]),\n",
              " 'train_info': array([[(array([[array(['n02085620-Chihuahua/n02085620_5927.jpg'], dtype='<U38')],\n",
              "        [array(['n02085620-Chihuahua/n02085620_4441.jpg'], dtype='<U38')],\n",
              "        [array(['n02085620-Chihuahua/n02085620_1502.jpg'], dtype='<U38')],\n",
              "        ...,\n",
              "        [array(['n02116738-African_hunting_dog/n02116738_6754.jpg'], dtype='<U48')],\n",
              "        [array(['n02116738-African_hunting_dog/n02116738_9333.jpg'], dtype='<U48')],\n",
              "        [array(['n02116738-African_hunting_dog/n02116738_2503.jpg'], dtype='<U48')]],\n",
              "       dtype=object), array([[array(['n02085620-Chihuahua/n02085620_5927'], dtype='<U34')],\n",
              "        [array(['n02085620-Chihuahua/n02085620_4441'], dtype='<U34')],\n",
              "        [array(['n02085620-Chihuahua/n02085620_1502'], dtype='<U34')],\n",
              "        ...,\n",
              "        [array(['n02116738-African_hunting_dog/n02116738_6754'], dtype='<U44')],\n",
              "        [array(['n02116738-African_hunting_dog/n02116738_9333'], dtype='<U44')],\n",
              "        [array(['n02116738-African_hunting_dog/n02116738_2503'], dtype='<U44')]],\n",
              "       dtype=object), array([[  1],\n",
              "        [  1],\n",
              "        [  1],\n",
              "        ...,\n",
              "        [120],\n",
              "        [120],\n",
              "        [120]], dtype=uint8), array([[array(['histograms_spm/n02085620-Chihuahua/n02085620_5927.mat'],\n",
              "       dtype='<U53')],\n",
              "        [array(['histograms_spm/n02085620-Chihuahua/n02085620_4441.mat'],\n",
              "       dtype='<U53')],\n",
              "        [array(['histograms_spm/n02085620-Chihuahua/n02085620_1502.mat'],\n",
              "       dtype='<U53')],\n",
              "        ...,\n",
              "        [array(['histograms_spm/n02116738-African_hunting_dog/n02116738_6754.mat'],\n",
              "       dtype='<U63')],\n",
              "        [array(['histograms_spm/n02116738-African_hunting_dog/n02116738_9333.mat'],\n",
              "       dtype='<U63')],\n",
              "        [array(['histograms_spm/n02116738-African_hunting_dog/n02116738_2503.mat'],\n",
              "       dtype='<U63')]], dtype=object))]],\n",
              "       dtype=[('file_list', 'O'), ('annotation_list', 'O'), ('labels', 'O'), ('fg_ids', 'O')])}"
            ]
          },
          "metadata": {
            "tags": []
          },
          "execution_count": 8
        }
      ]
    },
    {
      "cell_type": "code",
      "metadata": {
        "id": "BFX9k1HD3kzL",
        "colab_type": "code",
        "outputId": "abfcf88d-deb3-4082-e489-5f70298a44f2",
        "colab": {
          "base_uri": "https://localhost:8080/",
          "height": 34
        }
      },
      "source": [
        "train_data[100].shape"
      ],
      "execution_count": 0,
      "outputs": [
        {
          "output_type": "execute_result",
          "data": {
            "text/plain": [
              "(12000,)"
            ]
          },
          "metadata": {
            "tags": []
          },
          "execution_count": 9
        }
      ]
    },
    {
      "cell_type": "code",
      "metadata": {
        "id": "53QRta1reT0M",
        "colab_type": "code",
        "outputId": "5543fd9b-1843-46ad-8765-2b5c928caaf1",
        "colab": {
          "base_uri": "https://localhost:8080/",
          "height": 34
        }
      },
      "source": [
        "train_data.shape"
      ],
      "execution_count": 0,
      "outputs": [
        {
          "output_type": "execute_result",
          "data": {
            "text/plain": [
              "(12000, 12000)"
            ]
          },
          "metadata": {
            "tags": []
          },
          "execution_count": 10
        }
      ]
    },
    {
      "cell_type": "code",
      "metadata": {
        "id": "k11g4YDbmy3I",
        "colab_type": "code",
        "outputId": "88ca191b-10ae-4a24-9931-ddf995fab3c5",
        "colab": {
          "base_uri": "https://localhost:8080/",
          "height": 34
        }
      },
      "source": [
        "test_data.shape"
      ],
      "execution_count": 0,
      "outputs": [
        {
          "output_type": "execute_result",
          "data": {
            "text/plain": [
              "(8580, 12000)"
            ]
          },
          "metadata": {
            "tags": []
          },
          "execution_count": 11
        }
      ]
    },
    {
      "cell_type": "code",
      "metadata": {
        "id": "3pzuVzwC8Uau",
        "colab_type": "code",
        "outputId": "785be670-0f8a-4526-d7af-fc64bbfb4a3b",
        "colab": {
          "base_uri": "https://localhost:8080/",
          "height": 34
        }
      },
      "source": [
        "test_data[0].shape"
      ],
      "execution_count": 0,
      "outputs": [
        {
          "output_type": "execute_result",
          "data": {
            "text/plain": [
              "(12000,)"
            ]
          },
          "metadata": {
            "tags": []
          },
          "execution_count": 12
        }
      ]
    },
    {
      "cell_type": "code",
      "metadata": {
        "id": "GGJ8uWXQFtdp",
        "colab_type": "code",
        "colab": {}
      },
      "source": [
        "fpath = \"../input/images/Images/\"\n",
        "random_seed = 42\n",
        "\n",
        "categories = os.listdir(fpath)\n",
        "categories = categories[:20]\n",
        "print(\"List of categories = \",categories,\"\\n\\nNo. of categories = \", len(categories))"
      ],
      "execution_count": 0,
      "outputs": []
    },
    {
      "cell_type": "code",
      "metadata": {
        "id": "2UfQG-fdD14z",
        "colab_type": "code",
        "outputId": "91de9462-32b7-4fa3-813e-d38f4ed32344",
        "colab": {
          "base_uri": "https://localhost:8080/",
          "height": 164
        }
      },
      "source": [
        "img = Image.fromarray(test_data[0].reshape(32,32,3), 'RGB') "
      ],
      "execution_count": 0,
      "outputs": [
        {
          "output_type": "error",
          "ename": "ValueError",
          "evalue": "ignored",
          "traceback": [
            "\u001b[0;31m---------------------------------------------------------------------------\u001b[0m",
            "\u001b[0;31mValueError\u001b[0m                                Traceback (most recent call last)",
            "\u001b[0;32m<ipython-input-43-d8132bfc92a1>\u001b[0m in \u001b[0;36m<module>\u001b[0;34m()\u001b[0m\n\u001b[0;32m----> 1\u001b[0;31m \u001b[0mimg\u001b[0m \u001b[0;34m=\u001b[0m \u001b[0mImage\u001b[0m\u001b[0;34m.\u001b[0m\u001b[0mfromarray\u001b[0m\u001b[0;34m(\u001b[0m\u001b[0mtest_data\u001b[0m\u001b[0;34m[\u001b[0m\u001b[0;36m0\u001b[0m\u001b[0;34m]\u001b[0m\u001b[0;34m.\u001b[0m\u001b[0mreshape\u001b[0m\u001b[0;34m(\u001b[0m\u001b[0;36m32\u001b[0m\u001b[0;34m,\u001b[0m\u001b[0;36m32\u001b[0m\u001b[0;34m,\u001b[0m\u001b[0;36m3\u001b[0m\u001b[0;34m)\u001b[0m\u001b[0;34m,\u001b[0m \u001b[0;34m'RGB'\u001b[0m\u001b[0;34m)\u001b[0m\u001b[0;34m\u001b[0m\u001b[0;34m\u001b[0m\u001b[0m\n\u001b[0m",
            "\u001b[0;31mValueError\u001b[0m: cannot reshape array of size 12000 into shape (32,32,3)"
          ]
        }
      ]
    },
    {
      "cell_type": "code",
      "metadata": {
        "id": "N_C0V0AV8thB",
        "colab_type": "code",
        "outputId": "bc61f8f5-880a-45b4-f82d-2e188aca03b6",
        "colab": {
          "base_uri": "https://localhost:8080/",
          "height": 1000
        }
      },
      "source": [
        "fig,ax=plt.subplots(5,2)\n",
        "fig.set_size_inches(15,15)\n",
        "for i in range(5):\n",
        "    for j in range (2):\n",
        "        l=rn.randint(0,len(Z))\n",
        "        ax[i,j].imshow(X[l])\n",
        "        ax[i,j].set_title('Dog: '+Z[l])\n",
        "        \n",
        "plt.tight_layout()"
      ],
      "execution_count": 0,
      "outputs": [
        {
          "output_type": "error",
          "ename": "IndexError",
          "evalue": "ignored",
          "traceback": [
            "\u001b[0;31m---------------------------------------------------------------------------\u001b[0m",
            "\u001b[0;31mIndexError\u001b[0m                                Traceback (most recent call last)",
            "\u001b[0;32m<ipython-input-32-66fc8e63c204>\u001b[0m in \u001b[0;36m<module>\u001b[0;34m()\u001b[0m\n\u001b[1;32m     14\u001b[0m     \u001b[0;32mfor\u001b[0m \u001b[0mj\u001b[0m \u001b[0;32min\u001b[0m \u001b[0mrange\u001b[0m \u001b[0;34m(\u001b[0m\u001b[0;36m2\u001b[0m\u001b[0;34m)\u001b[0m\u001b[0;34m:\u001b[0m\u001b[0;34m\u001b[0m\u001b[0;34m\u001b[0m\u001b[0m\n\u001b[1;32m     15\u001b[0m         \u001b[0ml\u001b[0m\u001b[0;34m=\u001b[0m\u001b[0mrn\u001b[0m\u001b[0;34m.\u001b[0m\u001b[0mrandint\u001b[0m\u001b[0;34m(\u001b[0m\u001b[0;36m0\u001b[0m\u001b[0;34m,\u001b[0m\u001b[0mlen\u001b[0m\u001b[0;34m(\u001b[0m\u001b[0mZ\u001b[0m\u001b[0;34m)\u001b[0m\u001b[0;34m)\u001b[0m\u001b[0;34m\u001b[0m\u001b[0;34m\u001b[0m\u001b[0m\n\u001b[0;32m---> 16\u001b[0;31m         \u001b[0max\u001b[0m\u001b[0;34m[\u001b[0m\u001b[0mi\u001b[0m\u001b[0;34m,\u001b[0m\u001b[0mj\u001b[0m\u001b[0;34m]\u001b[0m\u001b[0;34m.\u001b[0m\u001b[0mimshow\u001b[0m\u001b[0;34m(\u001b[0m\u001b[0mX\u001b[0m\u001b[0;34m[\u001b[0m\u001b[0ml\u001b[0m\u001b[0;34m]\u001b[0m\u001b[0;34m)\u001b[0m\u001b[0;34m\u001b[0m\u001b[0;34m\u001b[0m\u001b[0m\n\u001b[0m\u001b[1;32m     17\u001b[0m         \u001b[0max\u001b[0m\u001b[0;34m[\u001b[0m\u001b[0mi\u001b[0m\u001b[0;34m,\u001b[0m\u001b[0mj\u001b[0m\u001b[0;34m]\u001b[0m\u001b[0;34m.\u001b[0m\u001b[0mset_title\u001b[0m\u001b[0;34m(\u001b[0m\u001b[0;34m'Dog: '\u001b[0m\u001b[0;34m+\u001b[0m\u001b[0mZ\u001b[0m\u001b[0;34m[\u001b[0m\u001b[0ml\u001b[0m\u001b[0;34m]\u001b[0m\u001b[0;34m)\u001b[0m\u001b[0;34m\u001b[0m\u001b[0;34m\u001b[0m\u001b[0m\n\u001b[1;32m     18\u001b[0m \u001b[0;34m\u001b[0m\u001b[0m\n",
            "\u001b[0;31mIndexError\u001b[0m: index 0 is out of bounds for axis 0 with size 0"
          ]
        },
        {
          "output_type": "display_data",
          "data": {
            "image/png": "[encoded data removed]",
            "text/plain": [
              "<Figure size 1080x1080 with 10 Axes>"
            ]
          },
          "metadata": {
            "tags": []
          }
        }
      ]
    },
    {
      "cell_type": "markdown",
      "metadata": {
        "id": "FMUs-ftpcwzf",
        "colab_type": "text"
      },
      "source": [
        "## Model Instantiation"
      ]
    },
    {
      "cell_type": "code",
      "metadata": {
        "id": "Szwsa3OOzrxP",
        "colab_type": "code",
        "colab": {}
      },
      "source": [
        "MLPC_nn = neural_network.MLPClassifier()"
      ],
      "execution_count": 0,
      "outputs": []
    }
  ]
}